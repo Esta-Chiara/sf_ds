{
 "cells": [
  {
   "cell_type": "markdown",
   "metadata": {},
   "source": [
    "# Игра угадай число"
   ]
  },
  {
   "cell_type": "code",
   "execution_count": 12,
   "metadata": {},
   "outputs": [],
   "source": [
    "\"\"\"Game guess a number\n",
    "The computer itself invents and guesses the number itself.\n",
    "\"\"\"\n",
    "\n",
    "import numpy as np"
   ]
  },
  {
   "cell_type": "code",
   "execution_count": 13,
   "metadata": {},
   "outputs": [],
   "source": [
    "def score_game(predictor) -> int:\n",
    "    \"\"\"Calculation of the number of guessing attempts on average from 1000 approaches\n",
    "    Args:\n",
    "        predictor ([type]): guess function\n",
    "    Returns:\n",
    "        int: average number of attempts\n",
    "    \"\"\"\n",
    "\n",
    "    count_ls = [] # list of the attempts number\n",
    "    np.random.seed(1) \n",
    "    random_array = np.random.randint(1, 101, size=(1000)) # list of hidden numbers\n",
    "\n",
    "    for number in random_array:\n",
    "        count_ls.append(predictor(number))\n",
    "\n",
    "    score = int(np.mean(count_ls)) # average number of attempts\n",
    "\n",
    "    print(f'Ваш алгоритм угадывает число в среднем за {score} попыток')\n",
    "    return(score)"
   ]
  },
  {
   "cell_type": "code",
   "execution_count": 14,
   "metadata": {},
   "outputs": [],
   "source": [
    "def random_predict(number:int=42) -> int:\n",
    "    \"\"\"Randomly guess a number\n",
    "    Args:\n",
    "        number (int, optional): hidden number. Defaults to 42.\n",
    "    Returns:\n",
    "        int: count of attempts\n",
    "    \"\"\"\n",
    "    count = 0\n",
    "\n",
    "    while True:\n",
    "        count += 1\n",
    "        predict_number = np.random.randint(1, 500) # estimated number\n",
    "        if number == predict_number:\n",
    "            break # exit from the loop if guessed right\n",
    "    return(count)"
   ]
  },
  {
   "cell_type": "code",
   "execution_count": 15,
   "metadata": {},
   "outputs": [
    {
     "name": "stdout",
     "output_type": "stream",
     "text": [
      "Ваш алгоритм угадывает число в среднем за 483 попыток\n"
     ]
    },
    {
     "data": {
      "text/plain": [
       "483"
      ]
     },
     "execution_count": 15,
     "metadata": {},
     "output_type": "execute_result"
    }
   ],
   "source": [
    "score_game(random_predict)"
   ]
  },
  {
   "cell_type": "markdown",
   "metadata": {},
   "source": [
    "Количество попыток сильно превышает заданный порог (20 попыток).\n",
    "Попробуем использовать более осознанный алгоритм вместо случайного угадывания."
   ]
  },
  {
   "cell_type": "code",
   "execution_count": 16,
   "metadata": {},
   "outputs": [],
   "source": [
    "def binary_search(number: int = 42) -> int:\n",
    "    \"\"\"search a number using binary search\n",
    "\n",
    "    Args:\n",
    "        number (int, optional): hidden number. Defaults to 42.\n",
    "\n",
    "    Returns:\n",
    "        int: count of attempts\n",
    "    \"\"\"\n",
    "    count = 0\n",
    "    left = 0\n",
    "    right = 100\n",
    "    \n",
    "    while True:\n",
    "        count += 1\n",
    "        predict_number = (left + right)//2 + (left + right)%2  # estimated number\n",
    "        if number == predict_number:\n",
    "            break  # exit from the loop if guessed right  \n",
    "        elif number > predict_number:  # if the estimated number is greater than the hidden one\n",
    "            left = predict_number  # shift the left border of the search\n",
    "        else:  # if the estimated number is less than the hidden one\n",
    "            right = predict_number  # shift the right border of the search\n",
    "    \n",
    "    return count"
   ]
  },
  {
   "cell_type": "markdown",
   "metadata": {},
   "source": [
    "## Угадываем с помощью бинарного поиска"
   ]
  },
  {
   "cell_type": "code",
   "execution_count": 17,
   "metadata": {},
   "outputs": [
    {
     "name": "stdout",
     "output_type": "stream",
     "text": [
      "Ваш алгоритм угадывает число в среднем за 5 попыток\n"
     ]
    },
    {
     "data": {
      "text/plain": [
       "5"
      ]
     },
     "execution_count": 17,
     "metadata": {},
     "output_type": "execute_result"
    }
   ],
   "source": [
    "score_game(binary_search)"
   ]
  },
  {
   "cell_type": "markdown",
   "metadata": {},
   "source": [
    "## Вывод"
   ]
  },
  {
   "cell_type": "markdown",
   "metadata": {},
   "source": [
    "Алгоритм бинарного поиска угадывает число в среднем за 5 попыток. Что подходит под условия задачи."
   ]
  }
 ],
 "metadata": {
  "kernelspec": {
   "display_name": "Python 3.10.8 64-bit (microsoft store)",
   "language": "python",
   "name": "python3"
  },
  "language_info": {
   "codemirror_mode": {
    "name": "ipython",
    "version": 3
   },
   "file_extension": ".py",
   "mimetype": "text/x-python",
   "name": "python",
   "nbconvert_exporter": "python",
   "pygments_lexer": "ipython3",
   "version": "3.10.8"
  },
  "orig_nbformat": 4,
  "vscode": {
   "interpreter": {
    "hash": "15829e704f2881990ff1302fd1580939be8041f89d2a98ff33d4d38be1ec11ba"
   }
  }
 },
 "nbformat": 4,
 "nbformat_minor": 2
}
